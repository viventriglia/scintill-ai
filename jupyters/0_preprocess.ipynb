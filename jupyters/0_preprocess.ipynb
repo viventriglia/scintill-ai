{
 "cells": [
  {
   "cell_type": "code",
   "execution_count": null,
   "id": "2ab32411-e13b-4c80-9b30-c50f399950b3",
   "metadata": {},
   "outputs": [],
   "source": [
    "from pathlib import Path\n",
    "\n",
    "import pandas as pd\n",
    "import numpy as np\n",
    "import plotly.express as px\n",
    "\n",
    "from scintill_ai.io import get_magnetometer_data, get_solar_data, get_solar_wind_data\n",
    "from var import START_DATE, END_DATE, DATA_IN"
   ]
  },
  {
   "cell_type": "markdown",
   "id": "2feb5107-ff00-4f63-9fbb-3dd20462846d",
   "metadata": {},
   "source": [
    "## INTERMAGNET"
   ]
  },
  {
   "cell_type": "code",
   "execution_count": null,
   "id": "849a30f7-4f01-4a8e-9857-763e0ebdc909",
   "metadata": {},
   "outputs": [],
   "source": [
    "df_kou = get_magnetometer_data(\n",
    "    Path(DATA_IN, 'KOU')\n",
    ").loc[START_DATE:END_DATE, 'h']\n",
    "\n",
    "df_ttb = get_magnetometer_data(\n",
    "    Path(DATA_IN, 'TTB')\n",
    ").loc[START_DATE:END_DATE, 'h']"
   ]
  },
  {
   "cell_type": "code",
   "execution_count": null,
   "id": "b5f4b24f-d53d-486e-88c9-e6074f86bf19",
   "metadata": {},
   "outputs": [],
   "source": [
    "df_mag = pd.merge(\n",
    "    left=df_kou,\n",
    "    right=df_ttb,\n",
    "    how='inner',\n",
    "    left_index=True,\n",
    "    right_index=True,\n",
    "    suffixes=['_kou', '_ttb']\n",
    ")"
   ]
  },
  {
   "cell_type": "markdown",
   "id": "a1675ddf-114b-439f-853f-50985a174b88",
   "metadata": {},
   "source": [
    "## GFZ"
   ]
  },
  {
   "cell_type": "code",
   "execution_count": null,
   "id": "5681c6db-b2b3-4472-bef5-ae4def566339",
   "metadata": {},
   "outputs": [],
   "source": [
    "df_solar = get_solar_data(START_DATE, END_DATE)"
   ]
  },
  {
   "cell_type": "markdown",
   "id": "23557207-fdd8-4755-8027-4f79cd9b0e87",
   "metadata": {},
   "source": [
    "## OMNIweb"
   ]
  },
  {
   "cell_type": "code",
   "execution_count": null,
   "id": "45f29f2f-f9b4-4728-90f0-bb2716605fd7",
   "metadata": {},
   "outputs": [],
   "source": [
    "df_omni = get_solar_wind_data(Path(DATA_IN, 'omniweb')).loc[START_DATE:END_DATE]"
   ]
  },
  {
   "cell_type": "code",
   "execution_count": null,
   "id": "e5fe5280-804f-4547-a2ad-8c3e00e17030",
   "metadata": {},
   "outputs": [],
   "source": [
    "# Penso che stiamo duplicando per spacecraft\n",
    "df_omni.reset_index()[df_omni.reset_index().duplicated(keep=False)].sort_values('datetime').head(20)"
   ]
  }
 ],
 "metadata": {
  "kernelspec": {
   "display_name": "Python 3 (ipykernel)",
   "language": "python",
   "name": "python3"
  },
  "language_info": {
   "codemirror_mode": {
    "name": "ipython",
    "version": 3
   },
   "file_extension": ".py",
   "mimetype": "text/x-python",
   "name": "python",
   "nbconvert_exporter": "python",
   "pygments_lexer": "ipython3",
   "version": "3.10.8"
  }
 },
 "nbformat": 4,
 "nbformat_minor": 5
}

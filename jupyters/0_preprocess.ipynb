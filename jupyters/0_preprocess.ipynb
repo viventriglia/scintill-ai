{
 "cells": [
  {
   "cell_type": "code",
   "execution_count": null,
   "id": "2ab32411-e13b-4c80-9b30-c50f399950b3",
   "metadata": {},
   "outputs": [],
   "source": [
    "from pathlib import Path\n",
    "\n",
    "import pandas as pd\n",
    "import numpy as np\n",
    "import plotly.express as px\n",
    "\n",
    "from scintill_ai.io import get_magnetometer_data, get_solar_data\n",
    "from var import DATA_IN"
   ]
  },
  {
   "cell_type": "code",
   "execution_count": null,
   "id": "3a85c423-6298-4f93-bfce-a4645c00908a",
   "metadata": {},
   "outputs": [],
   "source": [
    "magnetometers = [dir_.stem for dir_ in DATA_IN.iterdir() if dir_.stem != '.gitkeep']\n",
    "magnetometers"
   ]
  },
  {
   "cell_type": "code",
   "execution_count": null,
   "id": "849a30f7-4f01-4a8e-9857-763e0ebdc909",
   "metadata": {},
   "outputs": [],
   "source": [
    "df_kou = get_magnetometer_data(\n",
    "    Path(DATA_IN, 'KOU')\n",
    ")\n",
    "\n",
    "# df_ttb = get_magnetometer_data(\n",
    "#     Path(DATA_IN, 'TTB')\n",
    "# )"
   ]
  },
  {
   "cell_type": "code",
   "execution_count": null,
   "id": "547b630f-c3f3-4f29-86fb-ff677a694d3f",
   "metadata": {},
   "outputs": [],
   "source": [
    "df_kou.sample(10)"
   ]
  },
  {
   "cell_type": "code",
   "execution_count": null,
   "id": "5681c6db-b2b3-4472-bef5-ae4def566339",
   "metadata": {},
   "outputs": [],
   "source": [
    "start_date = '2010-01-01'\n",
    "end_date = '2024-01-01'\n",
    "df_solar = get_solar_data(start_date, end_date)"
   ]
  },
  {
   "cell_type": "code",
   "execution_count": null,
   "id": "11155bdc-a5a2-4180-8071-1039595d3bee",
   "metadata": {},
   "outputs": [],
   "source": [
    "df_solar.sample(10)"
   ]
  }
 ],
 "metadata": {
  "kernelspec": {
   "display_name": "Python 3 (ipykernel)",
   "language": "python",
   "name": "python3"
  },
  "language_info": {
   "codemirror_mode": {
    "name": "ipython",
    "version": 3
   },
   "file_extension": ".py",
   "mimetype": "text/x-python",
   "name": "python",
   "nbconvert_exporter": "python",
   "pygments_lexer": "ipython3",
   "version": "3.10.8"
  }
 },
 "nbformat": 4,
 "nbformat_minor": 5
}
